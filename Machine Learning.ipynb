{
 "cells": [
  {
   "cell_type": "code",
   "execution_count": 1,
   "id": "59d1c45b",
   "metadata": {},
   "outputs": [],
   "source": [
    "# Importing the libraries \n",
    "\n",
    "import numpy as np\n",
    "import matplotlib.pyplot as plt\n",
    "import matplotlib.image as mpimg\n",
    "import pandas as pd\n",
    "# Importing libraries\n",
    "import pandas as pd\n",
    "import numpy as np\n",
    "import seaborn as sns\n",
    "import matplotlib\n",
    "import matplotlib.pyplot as plt #visualisation\n",
    "%matplotlib inline\n",
    "sns.set(color_codes=True) \n",
    "# Load the libraries\n",
    "import numpy as np \n",
    "import pandas as pd \n",
    "import seaborn as sns\n",
    "import missingno as msno\n",
    "import re\n",
    "from matplotlib import pyplot as plt\n",
    "import matplotlib.pyplot as plt\n",
    "from warnings import filterwarnings\n",
    "filterwarnings('ignore')\n",
    "\n",
    "\n",
    "from scipy.stats.mstats import winsorize\n",
    "import scipy.stats as stats\n",
    "from sklearn.preprocessing import normalize\n",
    "from sklearn.model_selection import train_test_split\n",
    "from sklearn.preprocessing import StandardScaler\n",
    "from sklearn.metrics import r2_score, mean_squared_error, mean_absolute_error,explained_variance_score\n",
    "from sklearn.linear_model import LinearRegression,Ridge,Lasso\n",
    "from sklearn.ensemble import RandomForestRegressor\n",
    "from sklearn.model_selection import (GridSearchCV, cross_val_score, cross_val_predict, StratifiedKFold, learning_curve)\n",
    "\n",
    "from statsmodels.tools.eval_measures import mse, rmse\n",
    "from sklearn import preprocessing\n"
   ]
  },
  {
   "cell_type": "code",
   "execution_count": 2,
   "id": "510f13fc",
   "metadata": {},
   "outputs": [
    {
     "data": {
      "text/html": [
       "<div>\n",
       "<style scoped>\n",
       "    .dataframe tbody tr th:only-of-type {\n",
       "        vertical-align: middle;\n",
       "    }\n",
       "\n",
       "    .dataframe tbody tr th {\n",
       "        vertical-align: top;\n",
       "    }\n",
       "\n",
       "    .dataframe thead th {\n",
       "        text-align: right;\n",
       "    }\n",
       "</style>\n",
       "<table border=\"1\" class=\"dataframe\">\n",
       "  <thead>\n",
       "    <tr style=\"text-align: right;\">\n",
       "      <th></th>\n",
       "      <th>Unnamed: 0</th>\n",
       "      <th>Domain Code</th>\n",
       "      <th>Domain</th>\n",
       "      <th>Area Code (M49)</th>\n",
       "      <th>Area</th>\n",
       "      <th>Element Code</th>\n",
       "      <th>Element</th>\n",
       "      <th>Item Code (CPC)</th>\n",
       "      <th>Item</th>\n",
       "      <th>Year Code</th>\n",
       "      <th>Year</th>\n",
       "      <th>Unit</th>\n",
       "      <th>Value</th>\n",
       "      <th>Flag</th>\n",
       "      <th>Flag Description</th>\n",
       "    </tr>\n",
       "  </thead>\n",
       "  <tbody>\n",
       "    <tr>\n",
       "      <th>0</th>\n",
       "      <td>0</td>\n",
       "      <td>QCL</td>\n",
       "      <td>Crops and livestock products</td>\n",
       "      <td>372</td>\n",
       "      <td>Ireland</td>\n",
       "      <td>5312</td>\n",
       "      <td>Area harvested</td>\n",
       "      <td>01371</td>\n",
       "      <td>Almonds, in shell</td>\n",
       "      <td>2018</td>\n",
       "      <td>2018</td>\n",
       "      <td>ha</td>\n",
       "      <td>0.0</td>\n",
       "      <td>A</td>\n",
       "      <td>Official figure</td>\n",
       "    </tr>\n",
       "    <tr>\n",
       "      <th>1</th>\n",
       "      <td>1</td>\n",
       "      <td>QCL</td>\n",
       "      <td>Crops and livestock products</td>\n",
       "      <td>372</td>\n",
       "      <td>Ireland</td>\n",
       "      <td>5312</td>\n",
       "      <td>Area harvested</td>\n",
       "      <td>01371</td>\n",
       "      <td>Almonds, in shell</td>\n",
       "      <td>2019</td>\n",
       "      <td>2019</td>\n",
       "      <td>ha</td>\n",
       "      <td>0.0</td>\n",
       "      <td>A</td>\n",
       "      <td>Official figure</td>\n",
       "    </tr>\n",
       "    <tr>\n",
       "      <th>2</th>\n",
       "      <td>2</td>\n",
       "      <td>QCL</td>\n",
       "      <td>Crops and livestock products</td>\n",
       "      <td>372</td>\n",
       "      <td>Ireland</td>\n",
       "      <td>5312</td>\n",
       "      <td>Area harvested</td>\n",
       "      <td>01371</td>\n",
       "      <td>Almonds, in shell</td>\n",
       "      <td>2020</td>\n",
       "      <td>2020</td>\n",
       "      <td>ha</td>\n",
       "      <td>0.0</td>\n",
       "      <td>A</td>\n",
       "      <td>Official figure</td>\n",
       "    </tr>\n",
       "    <tr>\n",
       "      <th>3</th>\n",
       "      <td>3</td>\n",
       "      <td>QCL</td>\n",
       "      <td>Crops and livestock products</td>\n",
       "      <td>372</td>\n",
       "      <td>Ireland</td>\n",
       "      <td>5510</td>\n",
       "      <td>Production</td>\n",
       "      <td>01371</td>\n",
       "      <td>Almonds, in shell</td>\n",
       "      <td>2018</td>\n",
       "      <td>2018</td>\n",
       "      <td>tonnes</td>\n",
       "      <td>0.0</td>\n",
       "      <td>A</td>\n",
       "      <td>Official figure</td>\n",
       "    </tr>\n",
       "    <tr>\n",
       "      <th>4</th>\n",
       "      <td>4</td>\n",
       "      <td>QCL</td>\n",
       "      <td>Crops and livestock products</td>\n",
       "      <td>372</td>\n",
       "      <td>Ireland</td>\n",
       "      <td>5510</td>\n",
       "      <td>Production</td>\n",
       "      <td>01371</td>\n",
       "      <td>Almonds, in shell</td>\n",
       "      <td>2019</td>\n",
       "      <td>2019</td>\n",
       "      <td>tonnes</td>\n",
       "      <td>0.0</td>\n",
       "      <td>A</td>\n",
       "      <td>Official figure</td>\n",
       "    </tr>\n",
       "  </tbody>\n",
       "</table>\n",
       "</div>"
      ],
      "text/plain": [
       "   Unnamed: 0 Domain Code                        Domain  Area Code (M49)  \\\n",
       "0           0         QCL  Crops and livestock products              372   \n",
       "1           1         QCL  Crops and livestock products              372   \n",
       "2           2         QCL  Crops and livestock products              372   \n",
       "3           3         QCL  Crops and livestock products              372   \n",
       "4           4         QCL  Crops and livestock products              372   \n",
       "\n",
       "      Area  Element Code         Element Item Code (CPC)               Item  \\\n",
       "0  Ireland          5312  Area harvested           01371  Almonds, in shell   \n",
       "1  Ireland          5312  Area harvested           01371  Almonds, in shell   \n",
       "2  Ireland          5312  Area harvested           01371  Almonds, in shell   \n",
       "3  Ireland          5510      Production           01371  Almonds, in shell   \n",
       "4  Ireland          5510      Production           01371  Almonds, in shell   \n",
       "\n",
       "   Year Code  Year    Unit  Value Flag Flag Description  \n",
       "0       2018  2018      ha    0.0    A  Official figure  \n",
       "1       2019  2019      ha    0.0    A  Official figure  \n",
       "2       2020  2020      ha    0.0    A  Official figure  \n",
       "3       2018  2018  tonnes    0.0    A  Official figure  \n",
       "4       2019  2019  tonnes    0.0    A  Official figure  "
      ]
     },
     "execution_count": 2,
     "metadata": {},
     "output_type": "execute_result"
    }
   ],
   "source": [
    "df_ireland = pd.read_csv('df_ireland_drop.csv')\n",
    "# looking at the dataset\n",
    "df_ireland.head()"
   ]
  },
  {
   "cell_type": "code",
   "execution_count": 3,
   "id": "9c944bcb",
   "metadata": {},
   "outputs": [
    {
     "name": "stdout",
     "output_type": "stream",
     "text": [
      "<class 'pandas.core.frame.DataFrame'>\n",
      "RangeIndex: 9181 entries, 0 to 9180\n",
      "Data columns (total 15 columns):\n",
      " #   Column            Non-Null Count  Dtype  \n",
      "---  ------            --------------  -----  \n",
      " 0   Unnamed: 0        9181 non-null   int64  \n",
      " 1   Domain Code       9181 non-null   object \n",
      " 2   Domain            9181 non-null   object \n",
      " 3   Area Code (M49)   9181 non-null   int64  \n",
      " 4   Area              9181 non-null   object \n",
      " 5   Element Code      9181 non-null   int64  \n",
      " 6   Element           9181 non-null   object \n",
      " 7   Item Code (CPC)   9181 non-null   object \n",
      " 8   Item              9181 non-null   object \n",
      " 9   Year Code         9181 non-null   int64  \n",
      " 10  Year              9181 non-null   int64  \n",
      " 11  Unit              9181 non-null   object \n",
      " 12  Value             9181 non-null   float64\n",
      " 13  Flag              9181 non-null   object \n",
      " 14  Flag Description  9181 non-null   object \n",
      "dtypes: float64(1), int64(5), object(9)\n",
      "memory usage: 1.1+ MB\n"
     ]
    }
   ],
   "source": [
    "df_ireland.info()"
   ]
  },
  {
   "cell_type": "code",
   "execution_count": 4,
   "id": "b779e657",
   "metadata": {},
   "outputs": [
    {
     "data": {
      "text/html": [
       "<div>\n",
       "<style scoped>\n",
       "    .dataframe tbody tr th:only-of-type {\n",
       "        vertical-align: middle;\n",
       "    }\n",
       "\n",
       "    .dataframe tbody tr th {\n",
       "        vertical-align: top;\n",
       "    }\n",
       "\n",
       "    .dataframe thead th {\n",
       "        text-align: right;\n",
       "    }\n",
       "</style>\n",
       "<table border=\"1\" class=\"dataframe\">\n",
       "  <thead>\n",
       "    <tr style=\"text-align: right;\">\n",
       "      <th></th>\n",
       "      <th>Unnamed: 0</th>\n",
       "      <th>Domain Code</th>\n",
       "      <th>Domain</th>\n",
       "      <th>Area Code (M49)</th>\n",
       "      <th>Area</th>\n",
       "      <th>Element Code</th>\n",
       "      <th>Element</th>\n",
       "      <th>Item Code (CPC)</th>\n",
       "      <th>Item</th>\n",
       "      <th>Year Code</th>\n",
       "      <th>Year</th>\n",
       "      <th>Unit</th>\n",
       "      <th>Value</th>\n",
       "      <th>Flag</th>\n",
       "      <th>Flag Description</th>\n",
       "    </tr>\n",
       "  </thead>\n",
       "  <tbody>\n",
       "    <tr>\n",
       "      <th>6</th>\n",
       "      <td>6</td>\n",
       "      <td>QCL</td>\n",
       "      <td>Crops and livestock products</td>\n",
       "      <td>372</td>\n",
       "      <td>Ireland</td>\n",
       "      <td>5312</td>\n",
       "      <td>Area harvested</td>\n",
       "      <td>01341</td>\n",
       "      <td>Apples</td>\n",
       "      <td>1961</td>\n",
       "      <td>1961</td>\n",
       "      <td>ha</td>\n",
       "      <td>3000.0</td>\n",
       "      <td>E</td>\n",
       "      <td>Estimated value</td>\n",
       "    </tr>\n",
       "    <tr>\n",
       "      <th>7</th>\n",
       "      <td>7</td>\n",
       "      <td>QCL</td>\n",
       "      <td>Crops and livestock products</td>\n",
       "      <td>372</td>\n",
       "      <td>Ireland</td>\n",
       "      <td>5312</td>\n",
       "      <td>Area harvested</td>\n",
       "      <td>01341</td>\n",
       "      <td>Apples</td>\n",
       "      <td>1962</td>\n",
       "      <td>1962</td>\n",
       "      <td>ha</td>\n",
       "      <td>3000.0</td>\n",
       "      <td>E</td>\n",
       "      <td>Estimated value</td>\n",
       "    </tr>\n",
       "    <tr>\n",
       "      <th>8</th>\n",
       "      <td>8</td>\n",
       "      <td>QCL</td>\n",
       "      <td>Crops and livestock products</td>\n",
       "      <td>372</td>\n",
       "      <td>Ireland</td>\n",
       "      <td>5312</td>\n",
       "      <td>Area harvested</td>\n",
       "      <td>01341</td>\n",
       "      <td>Apples</td>\n",
       "      <td>1963</td>\n",
       "      <td>1963</td>\n",
       "      <td>ha</td>\n",
       "      <td>3000.0</td>\n",
       "      <td>E</td>\n",
       "      <td>Estimated value</td>\n",
       "    </tr>\n",
       "    <tr>\n",
       "      <th>9</th>\n",
       "      <td>9</td>\n",
       "      <td>QCL</td>\n",
       "      <td>Crops and livestock products</td>\n",
       "      <td>372</td>\n",
       "      <td>Ireland</td>\n",
       "      <td>5312</td>\n",
       "      <td>Area harvested</td>\n",
       "      <td>01341</td>\n",
       "      <td>Apples</td>\n",
       "      <td>1964</td>\n",
       "      <td>1964</td>\n",
       "      <td>ha</td>\n",
       "      <td>2000.0</td>\n",
       "      <td>E</td>\n",
       "      <td>Estimated value</td>\n",
       "    </tr>\n",
       "    <tr>\n",
       "      <th>10</th>\n",
       "      <td>10</td>\n",
       "      <td>QCL</td>\n",
       "      <td>Crops and livestock products</td>\n",
       "      <td>372</td>\n",
       "      <td>Ireland</td>\n",
       "      <td>5312</td>\n",
       "      <td>Area harvested</td>\n",
       "      <td>01341</td>\n",
       "      <td>Apples</td>\n",
       "      <td>1965</td>\n",
       "      <td>1965</td>\n",
       "      <td>ha</td>\n",
       "      <td>1500.0</td>\n",
       "      <td>E</td>\n",
       "      <td>Estimated value</td>\n",
       "    </tr>\n",
       "  </tbody>\n",
       "</table>\n",
       "</div>"
      ],
      "text/plain": [
       "    Unnamed: 0 Domain Code                        Domain  Area Code (M49)  \\\n",
       "6            6         QCL  Crops and livestock products              372   \n",
       "7            7         QCL  Crops and livestock products              372   \n",
       "8            8         QCL  Crops and livestock products              372   \n",
       "9            9         QCL  Crops and livestock products              372   \n",
       "10          10         QCL  Crops and livestock products              372   \n",
       "\n",
       "       Area  Element Code         Element Item Code (CPC)    Item  Year Code  \\\n",
       "6   Ireland          5312  Area harvested           01341  Apples       1961   \n",
       "7   Ireland          5312  Area harvested           01341  Apples       1962   \n",
       "8   Ireland          5312  Area harvested           01341  Apples       1963   \n",
       "9   Ireland          5312  Area harvested           01341  Apples       1964   \n",
       "10  Ireland          5312  Area harvested           01341  Apples       1965   \n",
       "\n",
       "    Year Unit   Value Flag Flag Description  \n",
       "6   1961   ha  3000.0    E  Estimated value  \n",
       "7   1962   ha  3000.0    E  Estimated value  \n",
       "8   1963   ha  3000.0    E  Estimated value  \n",
       "9   1964   ha  2000.0    E  Estimated value  \n",
       "10  1965   ha  1500.0    E  Estimated value  "
      ]
     },
     "execution_count": 4,
     "metadata": {},
     "output_type": "execute_result"
    }
   ],
   "source": [
    "df = df_ireland.query(\"Item=='Apples'\")\n",
    "df.head()"
   ]
  },
  {
   "cell_type": "code",
   "execution_count": 5,
   "id": "382d931a",
   "metadata": {},
   "outputs": [
    {
     "name": "stdout",
     "output_type": "stream",
     "text": [
      "<class 'pandas.core.frame.DataFrame'>\n",
      "Int64Index: 180 entries, 6 to 185\n",
      "Data columns (total 15 columns):\n",
      " #   Column            Non-Null Count  Dtype  \n",
      "---  ------            --------------  -----  \n",
      " 0   Unnamed: 0        180 non-null    int64  \n",
      " 1   Domain Code       180 non-null    object \n",
      " 2   Domain            180 non-null    object \n",
      " 3   Area Code (M49)   180 non-null    int64  \n",
      " 4   Area              180 non-null    object \n",
      " 5   Element Code      180 non-null    int64  \n",
      " 6   Element           180 non-null    object \n",
      " 7   Item Code (CPC)   180 non-null    object \n",
      " 8   Item              180 non-null    object \n",
      " 9   Year Code         180 non-null    int64  \n",
      " 10  Year              180 non-null    int64  \n",
      " 11  Unit              180 non-null    object \n",
      " 12  Value             180 non-null    float64\n",
      " 13  Flag              180 non-null    object \n",
      " 14  Flag Description  180 non-null    object \n",
      "dtypes: float64(1), int64(5), object(9)\n",
      "memory usage: 22.5+ KB\n"
     ]
    }
   ],
   "source": [
    "df.info()"
   ]
  },
  {
   "cell_type": "code",
   "execution_count": 6,
   "id": "1fe5bb3f",
   "metadata": {},
   "outputs": [
    {
     "data": {
      "text/html": [
       "<div>\n",
       "<style scoped>\n",
       "    .dataframe tbody tr th:only-of-type {\n",
       "        vertical-align: middle;\n",
       "    }\n",
       "\n",
       "    .dataframe tbody tr th {\n",
       "        vertical-align: top;\n",
       "    }\n",
       "\n",
       "    .dataframe thead th {\n",
       "        text-align: right;\n",
       "    }\n",
       "</style>\n",
       "<table border=\"1\" class=\"dataframe\">\n",
       "  <thead>\n",
       "    <tr style=\"text-align: right;\">\n",
       "      <th></th>\n",
       "      <th>Element</th>\n",
       "      <th>Year</th>\n",
       "      <th>Unit</th>\n",
       "      <th>Value</th>\n",
       "      <th>Flag Description</th>\n",
       "    </tr>\n",
       "  </thead>\n",
       "  <tbody>\n",
       "    <tr>\n",
       "      <th>6</th>\n",
       "      <td>Area harvested</td>\n",
       "      <td>1961</td>\n",
       "      <td>ha</td>\n",
       "      <td>3000.0</td>\n",
       "      <td>Estimated value</td>\n",
       "    </tr>\n",
       "    <tr>\n",
       "      <th>7</th>\n",
       "      <td>Area harvested</td>\n",
       "      <td>1962</td>\n",
       "      <td>ha</td>\n",
       "      <td>3000.0</td>\n",
       "      <td>Estimated value</td>\n",
       "    </tr>\n",
       "    <tr>\n",
       "      <th>8</th>\n",
       "      <td>Area harvested</td>\n",
       "      <td>1963</td>\n",
       "      <td>ha</td>\n",
       "      <td>3000.0</td>\n",
       "      <td>Estimated value</td>\n",
       "    </tr>\n",
       "    <tr>\n",
       "      <th>9</th>\n",
       "      <td>Area harvested</td>\n",
       "      <td>1964</td>\n",
       "      <td>ha</td>\n",
       "      <td>2000.0</td>\n",
       "      <td>Estimated value</td>\n",
       "    </tr>\n",
       "    <tr>\n",
       "      <th>10</th>\n",
       "      <td>Area harvested</td>\n",
       "      <td>1965</td>\n",
       "      <td>ha</td>\n",
       "      <td>1500.0</td>\n",
       "      <td>Estimated value</td>\n",
       "    </tr>\n",
       "  </tbody>\n",
       "</table>\n",
       "</div>"
      ],
      "text/plain": [
       "           Element  Year Unit   Value Flag Description\n",
       "6   Area harvested  1961   ha  3000.0  Estimated value\n",
       "7   Area harvested  1962   ha  3000.0  Estimated value\n",
       "8   Area harvested  1963   ha  3000.0  Estimated value\n",
       "9   Area harvested  1964   ha  2000.0  Estimated value\n",
       "10  Area harvested  1965   ha  1500.0  Estimated value"
      ]
     },
     "execution_count": 6,
     "metadata": {},
     "output_type": "execute_result"
    }
   ],
   "source": [
    "df=df.drop(columns=['Item','Element Code','Unnamed: 0','Area','Year Code','Domain Code','Domain','Area Code (M49)','Item Code (CPC)','Flag'])\n",
    "df.head()\n",
    "\n"
   ]
  },
  {
   "cell_type": "code",
   "execution_count": 7,
   "id": "a9cf2107",
   "metadata": {},
   "outputs": [
    {
     "data": {
      "text/html": [
       "<div>\n",
       "<style scoped>\n",
       "    .dataframe tbody tr th:only-of-type {\n",
       "        vertical-align: middle;\n",
       "    }\n",
       "\n",
       "    .dataframe tbody tr th {\n",
       "        vertical-align: top;\n",
       "    }\n",
       "\n",
       "    .dataframe thead th {\n",
       "        text-align: right;\n",
       "    }\n",
       "</style>\n",
       "<table border=\"1\" class=\"dataframe\">\n",
       "  <thead>\n",
       "    <tr style=\"text-align: right;\">\n",
       "      <th></th>\n",
       "      <th>Element</th>\n",
       "      <th>Year</th>\n",
       "      <th>Unit</th>\n",
       "      <th>Value</th>\n",
       "      <th>Flag Description</th>\n",
       "    </tr>\n",
       "  </thead>\n",
       "  <tbody>\n",
       "    <tr>\n",
       "      <th>6</th>\n",
       "      <td>Area harvested</td>\n",
       "      <td>1961</td>\n",
       "      <td>ha</td>\n",
       "      <td>3000.0</td>\n",
       "      <td>Estimated value</td>\n",
       "    </tr>\n",
       "    <tr>\n",
       "      <th>7</th>\n",
       "      <td>Area harvested</td>\n",
       "      <td>1962</td>\n",
       "      <td>ha</td>\n",
       "      <td>3000.0</td>\n",
       "      <td>Estimated value</td>\n",
       "    </tr>\n",
       "    <tr>\n",
       "      <th>8</th>\n",
       "      <td>Area harvested</td>\n",
       "      <td>1963</td>\n",
       "      <td>ha</td>\n",
       "      <td>3000.0</td>\n",
       "      <td>Estimated value</td>\n",
       "    </tr>\n",
       "    <tr>\n",
       "      <th>9</th>\n",
       "      <td>Area harvested</td>\n",
       "      <td>1964</td>\n",
       "      <td>ha</td>\n",
       "      <td>2000.0</td>\n",
       "      <td>Estimated value</td>\n",
       "    </tr>\n",
       "    <tr>\n",
       "      <th>10</th>\n",
       "      <td>Area harvested</td>\n",
       "      <td>1965</td>\n",
       "      <td>ha</td>\n",
       "      <td>1500.0</td>\n",
       "      <td>Estimated value</td>\n",
       "    </tr>\n",
       "  </tbody>\n",
       "</table>\n",
       "</div>"
      ],
      "text/plain": [
       "           Element  Year Unit   Value Flag Description\n",
       "6   Area harvested  1961   ha  3000.0  Estimated value\n",
       "7   Area harvested  1962   ha  3000.0  Estimated value\n",
       "8   Area harvested  1963   ha  3000.0  Estimated value\n",
       "9   Area harvested  1964   ha  2000.0  Estimated value\n",
       "10  Area harvested  1965   ha  1500.0  Estimated value"
      ]
     },
     "execution_count": 7,
     "metadata": {},
     "output_type": "execute_result"
    }
   ],
   "source": [
    "df1 = df.query(\"Unit=='ha'\")\n",
    "df1.head()\n"
   ]
  },
  {
   "cell_type": "code",
   "execution_count": 8,
   "id": "910cd391",
   "metadata": {},
   "outputs": [
    {
     "data": {
      "text/plain": [
       "Official figure      31\n",
       "Estimated value      26\n",
       "Imputed value         2\n",
       "Unofficial figure     1\n",
       "Name: Flag Description, dtype: int64"
      ]
     },
     "execution_count": 8,
     "metadata": {},
     "output_type": "execute_result"
    }
   ],
   "source": [
    "df1['Flag Description'].value_counts()\n"
   ]
  },
  {
   "cell_type": "code",
   "execution_count": 9,
   "id": "00e96f85",
   "metadata": {},
   "outputs": [
    {
     "data": {
      "text/html": [
       "<div>\n",
       "<style scoped>\n",
       "    .dataframe tbody tr th:only-of-type {\n",
       "        vertical-align: middle;\n",
       "    }\n",
       "\n",
       "    .dataframe tbody tr th {\n",
       "        vertical-align: top;\n",
       "    }\n",
       "\n",
       "    .dataframe thead th {\n",
       "        text-align: right;\n",
       "    }\n",
       "</style>\n",
       "<table border=\"1\" class=\"dataframe\">\n",
       "  <thead>\n",
       "    <tr style=\"text-align: right;\">\n",
       "      <th></th>\n",
       "      <th>Element</th>\n",
       "      <th>Year</th>\n",
       "      <th>Unit</th>\n",
       "      <th>Value</th>\n",
       "      <th>Flag Description</th>\n",
       "    </tr>\n",
       "  </thead>\n",
       "  <tbody>\n",
       "    <tr>\n",
       "      <th>66</th>\n",
       "      <td>Yield</td>\n",
       "      <td>1961</td>\n",
       "      <td>hg/ha</td>\n",
       "      <td>96667.0</td>\n",
       "      <td>Imputed value</td>\n",
       "    </tr>\n",
       "    <tr>\n",
       "      <th>67</th>\n",
       "      <td>Yield</td>\n",
       "      <td>1962</td>\n",
       "      <td>hg/ha</td>\n",
       "      <td>103333.0</td>\n",
       "      <td>Imputed value</td>\n",
       "    </tr>\n",
       "    <tr>\n",
       "      <th>68</th>\n",
       "      <td>Yield</td>\n",
       "      <td>1963</td>\n",
       "      <td>hg/ha</td>\n",
       "      <td>116667.0</td>\n",
       "      <td>Imputed value</td>\n",
       "    </tr>\n",
       "    <tr>\n",
       "      <th>69</th>\n",
       "      <td>Yield</td>\n",
       "      <td>1964</td>\n",
       "      <td>hg/ha</td>\n",
       "      <td>120000.0</td>\n",
       "      <td>Imputed value</td>\n",
       "    </tr>\n",
       "    <tr>\n",
       "      <th>70</th>\n",
       "      <td>Yield</td>\n",
       "      <td>1965</td>\n",
       "      <td>hg/ha</td>\n",
       "      <td>140000.0</td>\n",
       "      <td>Imputed value</td>\n",
       "    </tr>\n",
       "  </tbody>\n",
       "</table>\n",
       "</div>"
      ],
      "text/plain": [
       "   Element  Year   Unit     Value Flag Description\n",
       "66   Yield  1961  hg/ha   96667.0    Imputed value\n",
       "67   Yield  1962  hg/ha  103333.0    Imputed value\n",
       "68   Yield  1963  hg/ha  116667.0    Imputed value\n",
       "69   Yield  1964  hg/ha  120000.0    Imputed value\n",
       "70   Yield  1965  hg/ha  140000.0    Imputed value"
      ]
     },
     "execution_count": 9,
     "metadata": {},
     "output_type": "execute_result"
    }
   ],
   "source": [
    "df2 = df.query(\"Unit=='hg/ha'\")\n",
    "df2.head()\n",
    "\n",
    "#Исходная единица измерения гектограмм (hg) hg/ha гектограм на гектар"
   ]
  },
  {
   "cell_type": "code",
   "execution_count": 10,
   "id": "355591c4",
   "metadata": {},
   "outputs": [
    {
     "data": {
      "text/plain": [
       "Estimated value    39\n",
       "Imputed value      21\n",
       "Name: Flag Description, dtype: int64"
      ]
     },
     "execution_count": 10,
     "metadata": {},
     "output_type": "execute_result"
    }
   ],
   "source": [
    "df2['Flag Description'].value_counts()"
   ]
  },
  {
   "cell_type": "code",
   "execution_count": 11,
   "id": "439c6cb6",
   "metadata": {},
   "outputs": [],
   "source": [
    "df3 = df.query(\"Unit=='tonnes'\")\n",
    "#df3.head()"
   ]
  },
  {
   "cell_type": "code",
   "execution_count": 12,
   "id": "46744170",
   "metadata": {},
   "outputs": [
    {
     "data": {
      "text/plain": [
       "Official figure    60\n",
       "Name: Flag Description, dtype: int64"
      ]
     },
     "execution_count": 12,
     "metadata": {},
     "output_type": "execute_result"
    }
   ],
   "source": [
    "df3['Flag Description'].value_counts()"
   ]
  },
  {
   "cell_type": "code",
   "execution_count": 13,
   "id": "62592dbe",
   "metadata": {},
   "outputs": [
    {
     "data": {
      "text/plain": [
       "Production    60\n",
       "Name: Element, dtype: int64"
      ]
     },
     "execution_count": 13,
     "metadata": {},
     "output_type": "execute_result"
    }
   ],
   "source": [
    "df3['Element'].value_counts()"
   ]
  },
  {
   "cell_type": "code",
   "execution_count": 14,
   "id": "0c0c0d07",
   "metadata": {},
   "outputs": [
    {
     "data": {
      "text/plain": [
       "Official figure      91\n",
       "Estimated value      65\n",
       "Imputed value        23\n",
       "Unofficial figure     1\n",
       "Name: Flag Description, dtype: int64"
      ]
     },
     "execution_count": 14,
     "metadata": {},
     "output_type": "execute_result"
    }
   ],
   "source": [
    "df['Flag Description'].value_counts()"
   ]
  },
  {
   "cell_type": "code",
   "execution_count": 15,
   "id": "86f16490",
   "metadata": {},
   "outputs": [
    {
     "data": {
      "text/plain": [
       "Area harvested    60\n",
       "Yield             60\n",
       "Production        60\n",
       "Name: Element, dtype: int64"
      ]
     },
     "execution_count": 15,
     "metadata": {},
     "output_type": "execute_result"
    }
   ],
   "source": [
    "df['Element'].value_counts()"
   ]
  },
  {
   "cell_type": "code",
   "execution_count": 16,
   "id": "65d16e02",
   "metadata": {},
   "outputs": [],
   "source": [
    "#df = pd.get_dummies(df, columns = ['Flag Description'], prefix = 'Flag', drop_first=False)\n",
    "#df.head(30)"
   ]
  },
  {
   "cell_type": "code",
   "execution_count": 17,
   "id": "7c26efd1",
   "metadata": {},
   "outputs": [
    {
     "data": {
      "text/html": [
       "<div>\n",
       "<style scoped>\n",
       "    .dataframe tbody tr th:only-of-type {\n",
       "        vertical-align: middle;\n",
       "    }\n",
       "\n",
       "    .dataframe tbody tr th {\n",
       "        vertical-align: top;\n",
       "    }\n",
       "\n",
       "    .dataframe thead th {\n",
       "        text-align: right;\n",
       "    }\n",
       "</style>\n",
       "<table border=\"1\" class=\"dataframe\">\n",
       "  <thead>\n",
       "    <tr style=\"text-align: right;\">\n",
       "      <th></th>\n",
       "      <th>Element</th>\n",
       "      <th>Year</th>\n",
       "      <th>Unit</th>\n",
       "      <th>Value</th>\n",
       "      <th>Flag Description</th>\n",
       "    </tr>\n",
       "  </thead>\n",
       "  <tbody>\n",
       "    <tr>\n",
       "      <th>6</th>\n",
       "      <td>Area harvested</td>\n",
       "      <td>1961</td>\n",
       "      <td>ha</td>\n",
       "      <td>3000.0</td>\n",
       "      <td>Estimated value</td>\n",
       "    </tr>\n",
       "    <tr>\n",
       "      <th>7</th>\n",
       "      <td>Area harvested</td>\n",
       "      <td>1962</td>\n",
       "      <td>ha</td>\n",
       "      <td>3000.0</td>\n",
       "      <td>Estimated value</td>\n",
       "    </tr>\n",
       "    <tr>\n",
       "      <th>8</th>\n",
       "      <td>Area harvested</td>\n",
       "      <td>1963</td>\n",
       "      <td>ha</td>\n",
       "      <td>3000.0</td>\n",
       "      <td>Estimated value</td>\n",
       "    </tr>\n",
       "    <tr>\n",
       "      <th>9</th>\n",
       "      <td>Area harvested</td>\n",
       "      <td>1964</td>\n",
       "      <td>ha</td>\n",
       "      <td>2000.0</td>\n",
       "      <td>Estimated value</td>\n",
       "    </tr>\n",
       "    <tr>\n",
       "      <th>10</th>\n",
       "      <td>Area harvested</td>\n",
       "      <td>1965</td>\n",
       "      <td>ha</td>\n",
       "      <td>1500.0</td>\n",
       "      <td>Estimated value</td>\n",
       "    </tr>\n",
       "  </tbody>\n",
       "</table>\n",
       "</div>"
      ],
      "text/plain": [
       "           Element  Year Unit   Value Flag Description\n",
       "6   Area harvested  1961   ha  3000.0  Estimated value\n",
       "7   Area harvested  1962   ha  3000.0  Estimated value\n",
       "8   Area harvested  1963   ha  3000.0  Estimated value\n",
       "9   Area harvested  1964   ha  2000.0  Estimated value\n",
       "10  Area harvested  1965   ha  1500.0  Estimated value"
      ]
     },
     "execution_count": 17,
     "metadata": {},
     "output_type": "execute_result"
    }
   ],
   "source": [
    "#df = pd.get_dummies(df, columns = ['Element'], prefix = 'Element', drop_first=False)\n",
    "df.head()"
   ]
  },
  {
   "cell_type": "code",
   "execution_count": 18,
   "id": "43790de3",
   "metadata": {},
   "outputs": [
    {
     "data": {
      "text/plain": [
       "ha        60\n",
       "hg/ha     60\n",
       "tonnes    60\n",
       "Name: Unit, dtype: int64"
      ]
     },
     "execution_count": 18,
     "metadata": {},
     "output_type": "execute_result"
    }
   ],
   "source": [
    "df['Unit'].value_counts()"
   ]
  },
  {
   "cell_type": "markdown",
   "id": "2d06705f",
   "metadata": {},
   "source": [
    "### Рассмотрим официальные данные(Flag Description: Official figure) производства (Element: Production) в тоннах(unit: tonnes) яблок за все года(years) в ирландии"
   ]
  },
  {
   "cell_type": "code",
   "execution_count": 19,
   "id": "86130b64",
   "metadata": {},
   "outputs": [
    {
     "data": {
      "text/html": [
       "<div>\n",
       "<style scoped>\n",
       "    .dataframe tbody tr th:only-of-type {\n",
       "        vertical-align: middle;\n",
       "    }\n",
       "\n",
       "    .dataframe tbody tr th {\n",
       "        vertical-align: top;\n",
       "    }\n",
       "\n",
       "    .dataframe thead th {\n",
       "        text-align: right;\n",
       "    }\n",
       "</style>\n",
       "<table border=\"1\" class=\"dataframe\">\n",
       "  <thead>\n",
       "    <tr style=\"text-align: right;\">\n",
       "      <th></th>\n",
       "      <th>Element</th>\n",
       "      <th>Year</th>\n",
       "      <th>Unit</th>\n",
       "      <th>Value</th>\n",
       "      <th>Flag Description</th>\n",
       "    </tr>\n",
       "  </thead>\n",
       "  <tbody>\n",
       "    <tr>\n",
       "      <th>126</th>\n",
       "      <td>Production</td>\n",
       "      <td>1961</td>\n",
       "      <td>tonnes</td>\n",
       "      <td>29000.0</td>\n",
       "      <td>Official figure</td>\n",
       "    </tr>\n",
       "    <tr>\n",
       "      <th>127</th>\n",
       "      <td>Production</td>\n",
       "      <td>1962</td>\n",
       "      <td>tonnes</td>\n",
       "      <td>31000.0</td>\n",
       "      <td>Official figure</td>\n",
       "    </tr>\n",
       "    <tr>\n",
       "      <th>128</th>\n",
       "      <td>Production</td>\n",
       "      <td>1963</td>\n",
       "      <td>tonnes</td>\n",
       "      <td>35000.0</td>\n",
       "      <td>Official figure</td>\n",
       "    </tr>\n",
       "    <tr>\n",
       "      <th>129</th>\n",
       "      <td>Production</td>\n",
       "      <td>1964</td>\n",
       "      <td>tonnes</td>\n",
       "      <td>24000.0</td>\n",
       "      <td>Official figure</td>\n",
       "    </tr>\n",
       "    <tr>\n",
       "      <th>130</th>\n",
       "      <td>Production</td>\n",
       "      <td>1965</td>\n",
       "      <td>tonnes</td>\n",
       "      <td>21000.0</td>\n",
       "      <td>Official figure</td>\n",
       "    </tr>\n",
       "  </tbody>\n",
       "</table>\n",
       "</div>"
      ],
      "text/plain": [
       "        Element  Year    Unit    Value Flag Description\n",
       "126  Production  1961  tonnes  29000.0  Official figure\n",
       "127  Production  1962  tonnes  31000.0  Official figure\n",
       "128  Production  1963  tonnes  35000.0  Official figure\n",
       "129  Production  1964  tonnes  24000.0  Official figure\n",
       "130  Production  1965  tonnes  21000.0  Official figure"
      ]
     },
     "execution_count": 19,
     "metadata": {},
     "output_type": "execute_result"
    }
   ],
   "source": [
    "df3 = df.query(\"Unit=='tonnes'\")\n",
    "df3.head()"
   ]
  },
  {
   "cell_type": "markdown",
   "id": "58740e23",
   "metadata": {},
   "source": [
    "Официальные данные 91\n",
    "Оценочная стоимость 65\n",
    "Условно исчисленная величина 23\n",
    "Неофициальная цифра 1"
   ]
  },
  {
   "cell_type": "code",
   "execution_count": 20,
   "id": "f7e64a51",
   "metadata": {},
   "outputs": [
    {
     "data": {
      "image/png": "[encoded data removed]",
      "text/plain": [
       "<Figure size 1000x1000 with 1 Axes>"
      ]
     },
     "metadata": {},
     "output_type": "display_data"
    }
   ],
   "source": [
    "# just to visualize.\n",
    "sns.boxplot(data=df3[['Year',\n",
    "       'Value']])\n",
    "fig=plt.gcf()\n",
    "fig.set_size_inches(10,10)"
   ]
  },
  {
   "cell_type": "code",
   "execution_count": 21,
   "id": "307ae2f8",
   "metadata": {},
   "outputs": [
    {
     "data": {
      "text/plain": [
       "<AxesSubplot:xlabel='Value'>"
      ]
     },
     "execution_count": 21,
     "metadata": {},
     "output_type": "execute_result"
    },
    {
     "data": {
      "image/png": "[encoded data removed]",
      "text/plain": [
       "<Figure size 640x480 with 1 Axes>"
      ]
     },
     "metadata": {},
     "output_type": "display_data"
    }
   ],
   "source": [
    "sns.boxplot(x=df3[\"Value\"], whis=1.5)  "
   ]
  },
  {
   "cell_type": "code",
   "execution_count": 22,
   "id": "569c370c",
   "metadata": {},
   "outputs": [
    {
     "data": {
      "text/plain": [
       "(180, 5)"
      ]
     },
     "execution_count": 22,
     "metadata": {},
     "output_type": "execute_result"
    }
   ],
   "source": [
    "df.shape"
   ]
  },
  {
   "cell_type": "code",
   "execution_count": 23,
   "id": "cba7fdbe",
   "metadata": {},
   "outputs": [
    {
     "name": "stdout",
     "output_type": "stream",
     "text": [
      "Year       29.5\n",
      "Value    9202.5\n",
      "dtype: float64\n"
     ]
    }
   ],
   "source": [
    "Q1 = df3.quantile(0.25)\n",
    "Q3 = df3.quantile(0.75)\n",
    "IQR = Q3-Q1\n",
    "print(IQR)"
   ]
  },
  {
   "cell_type": "code",
   "execution_count": 24,
   "id": "70519cb6",
   "metadata": {},
   "outputs": [],
   "source": [
    "df3 = df3[~((df3 < (Q1-1.5 * IQR)) |(df3 > (Q3 + 1.5 * IQR))).any(axis=1)]"
   ]
  },
  {
   "cell_type": "code",
   "execution_count": 25,
   "id": "a5739f12",
   "metadata": {},
   "outputs": [
    {
     "data": {
      "text/plain": [
       "(59, 5)"
      ]
     },
     "execution_count": 25,
     "metadata": {},
     "output_type": "execute_result"
    }
   ],
   "source": [
    "df3.shape"
   ]
  },
  {
   "cell_type": "code",
   "execution_count": 26,
   "id": "be6aa6c6",
   "metadata": {},
   "outputs": [
    {
     "data": {
      "text/plain": [
       "<AxesSubplot:xlabel='Year'>"
      ]
     },
     "execution_count": 26,
     "metadata": {},
     "output_type": "execute_result"
    },
    {
     "data": {
      "image/png": "[encoded data removed]",
      "text/plain": [
       "<Figure size 640x480 with 1 Axes>"
      ]
     },
     "metadata": {},
     "output_type": "display_data"
    }
   ],
   "source": [
    "sns.boxplot(x=df3[\"Year\"], whis=1.5)  "
   ]
  },
  {
   "cell_type": "code",
   "execution_count": 27,
   "id": "f016b5d2",
   "metadata": {},
   "outputs": [
    {
     "data": {
      "text/plain": [
       "<AxesSubplot:ylabel='Year'>"
      ]
     },
     "execution_count": 27,
     "metadata": {},
     "output_type": "execute_result"
    },
    {
     "data": {
      "image/png": "[encoded data removed]",
      "text/plain": [
       "<Figure size 640x480 with 1 Axes>"
      ]
     },
     "metadata": {},
     "output_type": "display_data"
    }
   ],
   "source": [
    "df3['Year'].value_counts().plot.pie(autopct= '%.2f')"
   ]
  },
  {
   "cell_type": "code",
   "execution_count": 28,
   "id": "81e2279f",
   "metadata": {},
   "outputs": [
    {
     "data": {
      "text/html": [
       "<div>\n",
       "<style scoped>\n",
       "    .dataframe tbody tr th:only-of-type {\n",
       "        vertical-align: middle;\n",
       "    }\n",
       "\n",
       "    .dataframe tbody tr th {\n",
       "        vertical-align: top;\n",
       "    }\n",
       "\n",
       "    .dataframe thead th {\n",
       "        text-align: right;\n",
       "    }\n",
       "</style>\n",
       "<table border=\"1\" class=\"dataframe\">\n",
       "  <thead>\n",
       "    <tr style=\"text-align: right;\">\n",
       "      <th></th>\n",
       "      <th>Element</th>\n",
       "      <th>Year</th>\n",
       "      <th>Unit</th>\n",
       "      <th>Value</th>\n",
       "      <th>Flag Description</th>\n",
       "    </tr>\n",
       "  </thead>\n",
       "  <tbody>\n",
       "    <tr>\n",
       "      <th>126</th>\n",
       "      <td>Production</td>\n",
       "      <td>1961</td>\n",
       "      <td>tonnes</td>\n",
       "      <td>29000.0</td>\n",
       "      <td>Official figure</td>\n",
       "    </tr>\n",
       "    <tr>\n",
       "      <th>127</th>\n",
       "      <td>Production</td>\n",
       "      <td>1962</td>\n",
       "      <td>tonnes</td>\n",
       "      <td>31000.0</td>\n",
       "      <td>Official figure</td>\n",
       "    </tr>\n",
       "    <tr>\n",
       "      <th>129</th>\n",
       "      <td>Production</td>\n",
       "      <td>1964</td>\n",
       "      <td>tonnes</td>\n",
       "      <td>24000.0</td>\n",
       "      <td>Official figure</td>\n",
       "    </tr>\n",
       "    <tr>\n",
       "      <th>130</th>\n",
       "      <td>Production</td>\n",
       "      <td>1965</td>\n",
       "      <td>tonnes</td>\n",
       "      <td>21000.0</td>\n",
       "      <td>Official figure</td>\n",
       "    </tr>\n",
       "    <tr>\n",
       "      <th>131</th>\n",
       "      <td>Production</td>\n",
       "      <td>1966</td>\n",
       "      <td>tonnes</td>\n",
       "      <td>17000.0</td>\n",
       "      <td>Official figure</td>\n",
       "    </tr>\n",
       "  </tbody>\n",
       "</table>\n",
       "</div>"
      ],
      "text/plain": [
       "        Element  Year    Unit    Value Flag Description\n",
       "126  Production  1961  tonnes  29000.0  Official figure\n",
       "127  Production  1962  tonnes  31000.0  Official figure\n",
       "129  Production  1964  tonnes  24000.0  Official figure\n",
       "130  Production  1965  tonnes  21000.0  Official figure\n",
       "131  Production  1966  tonnes  17000.0  Official figure"
      ]
     },
     "execution_count": 28,
     "metadata": {},
     "output_type": "execute_result"
    }
   ],
   "source": [
    "df3.head(5)"
   ]
  },
  {
   "cell_type": "code",
   "execution_count": 29,
   "id": "f4005014",
   "metadata": {},
   "outputs": [
    {
     "data": {
      "text/html": [
       "<div>\n",
       "<style scoped>\n",
       "    .dataframe tbody tr th:only-of-type {\n",
       "        vertical-align: middle;\n",
       "    }\n",
       "\n",
       "    .dataframe tbody tr th {\n",
       "        vertical-align: top;\n",
       "    }\n",
       "\n",
       "    .dataframe thead th {\n",
       "        text-align: right;\n",
       "    }\n",
       "</style>\n",
       "<table border=\"1\" class=\"dataframe\">\n",
       "  <thead>\n",
       "    <tr style=\"text-align: right;\">\n",
       "      <th></th>\n",
       "      <th>Element</th>\n",
       "      <th>Year</th>\n",
       "      <th>Unit</th>\n",
       "      <th>Value</th>\n",
       "      <th>Flag_Official figure</th>\n",
       "    </tr>\n",
       "  </thead>\n",
       "  <tbody>\n",
       "    <tr>\n",
       "      <th>126</th>\n",
       "      <td>Production</td>\n",
       "      <td>1961</td>\n",
       "      <td>tonnes</td>\n",
       "      <td>29000.0</td>\n",
       "      <td>1</td>\n",
       "    </tr>\n",
       "    <tr>\n",
       "      <th>127</th>\n",
       "      <td>Production</td>\n",
       "      <td>1962</td>\n",
       "      <td>tonnes</td>\n",
       "      <td>31000.0</td>\n",
       "      <td>1</td>\n",
       "    </tr>\n",
       "    <tr>\n",
       "      <th>129</th>\n",
       "      <td>Production</td>\n",
       "      <td>1964</td>\n",
       "      <td>tonnes</td>\n",
       "      <td>24000.0</td>\n",
       "      <td>1</td>\n",
       "    </tr>\n",
       "    <tr>\n",
       "      <th>130</th>\n",
       "      <td>Production</td>\n",
       "      <td>1965</td>\n",
       "      <td>tonnes</td>\n",
       "      <td>21000.0</td>\n",
       "      <td>1</td>\n",
       "    </tr>\n",
       "    <tr>\n",
       "      <th>131</th>\n",
       "      <td>Production</td>\n",
       "      <td>1966</td>\n",
       "      <td>tonnes</td>\n",
       "      <td>17000.0</td>\n",
       "      <td>1</td>\n",
       "    </tr>\n",
       "    <tr>\n",
       "      <th>132</th>\n",
       "      <td>Production</td>\n",
       "      <td>1967</td>\n",
       "      <td>tonnes</td>\n",
       "      <td>16000.0</td>\n",
       "      <td>1</td>\n",
       "    </tr>\n",
       "    <tr>\n",
       "      <th>133</th>\n",
       "      <td>Production</td>\n",
       "      <td>1968</td>\n",
       "      <td>tonnes</td>\n",
       "      <td>20000.0</td>\n",
       "      <td>1</td>\n",
       "    </tr>\n",
       "    <tr>\n",
       "      <th>134</th>\n",
       "      <td>Production</td>\n",
       "      <td>1969</td>\n",
       "      <td>tonnes</td>\n",
       "      <td>22000.0</td>\n",
       "      <td>1</td>\n",
       "    </tr>\n",
       "    <tr>\n",
       "      <th>135</th>\n",
       "      <td>Production</td>\n",
       "      <td>1970</td>\n",
       "      <td>tonnes</td>\n",
       "      <td>20000.0</td>\n",
       "      <td>1</td>\n",
       "    </tr>\n",
       "    <tr>\n",
       "      <th>136</th>\n",
       "      <td>Production</td>\n",
       "      <td>1971</td>\n",
       "      <td>tonnes</td>\n",
       "      <td>13000.0</td>\n",
       "      <td>1</td>\n",
       "    </tr>\n",
       "    <tr>\n",
       "      <th>137</th>\n",
       "      <td>Production</td>\n",
       "      <td>1972</td>\n",
       "      <td>tonnes</td>\n",
       "      <td>9100.0</td>\n",
       "      <td>1</td>\n",
       "    </tr>\n",
       "    <tr>\n",
       "      <th>138</th>\n",
       "      <td>Production</td>\n",
       "      <td>1973</td>\n",
       "      <td>tonnes</td>\n",
       "      <td>11900.0</td>\n",
       "      <td>1</td>\n",
       "    </tr>\n",
       "    <tr>\n",
       "      <th>139</th>\n",
       "      <td>Production</td>\n",
       "      <td>1974</td>\n",
       "      <td>tonnes</td>\n",
       "      <td>10000.0</td>\n",
       "      <td>1</td>\n",
       "    </tr>\n",
       "    <tr>\n",
       "      <th>140</th>\n",
       "      <td>Production</td>\n",
       "      <td>1975</td>\n",
       "      <td>tonnes</td>\n",
       "      <td>10300.0</td>\n",
       "      <td>1</td>\n",
       "    </tr>\n",
       "    <tr>\n",
       "      <th>141</th>\n",
       "      <td>Production</td>\n",
       "      <td>1976</td>\n",
       "      <td>tonnes</td>\n",
       "      <td>10800.0</td>\n",
       "      <td>1</td>\n",
       "    </tr>\n",
       "    <tr>\n",
       "      <th>142</th>\n",
       "      <td>Production</td>\n",
       "      <td>1977</td>\n",
       "      <td>tonnes</td>\n",
       "      <td>9800.0</td>\n",
       "      <td>1</td>\n",
       "    </tr>\n",
       "    <tr>\n",
       "      <th>143</th>\n",
       "      <td>Production</td>\n",
       "      <td>1978</td>\n",
       "      <td>tonnes</td>\n",
       "      <td>10100.0</td>\n",
       "      <td>1</td>\n",
       "    </tr>\n",
       "    <tr>\n",
       "      <th>144</th>\n",
       "      <td>Production</td>\n",
       "      <td>1979</td>\n",
       "      <td>tonnes</td>\n",
       "      <td>10000.0</td>\n",
       "      <td>1</td>\n",
       "    </tr>\n",
       "    <tr>\n",
       "      <th>145</th>\n",
       "      <td>Production</td>\n",
       "      <td>1980</td>\n",
       "      <td>tonnes</td>\n",
       "      <td>8900.0</td>\n",
       "      <td>1</td>\n",
       "    </tr>\n",
       "    <tr>\n",
       "      <th>146</th>\n",
       "      <td>Production</td>\n",
       "      <td>1981</td>\n",
       "      <td>tonnes</td>\n",
       "      <td>6500.0</td>\n",
       "      <td>1</td>\n",
       "    </tr>\n",
       "    <tr>\n",
       "      <th>147</th>\n",
       "      <td>Production</td>\n",
       "      <td>1982</td>\n",
       "      <td>tonnes</td>\n",
       "      <td>9000.0</td>\n",
       "      <td>1</td>\n",
       "    </tr>\n",
       "    <tr>\n",
       "      <th>148</th>\n",
       "      <td>Production</td>\n",
       "      <td>1983</td>\n",
       "      <td>tonnes</td>\n",
       "      <td>10350.0</td>\n",
       "      <td>1</td>\n",
       "    </tr>\n",
       "    <tr>\n",
       "      <th>149</th>\n",
       "      <td>Production</td>\n",
       "      <td>1984</td>\n",
       "      <td>tonnes</td>\n",
       "      <td>13692.0</td>\n",
       "      <td>1</td>\n",
       "    </tr>\n",
       "    <tr>\n",
       "      <th>150</th>\n",
       "      <td>Production</td>\n",
       "      <td>1985</td>\n",
       "      <td>tonnes</td>\n",
       "      <td>10960.0</td>\n",
       "      <td>1</td>\n",
       "    </tr>\n",
       "    <tr>\n",
       "      <th>151</th>\n",
       "      <td>Production</td>\n",
       "      <td>1986</td>\n",
       "      <td>tonnes</td>\n",
       "      <td>9800.0</td>\n",
       "      <td>1</td>\n",
       "    </tr>\n",
       "    <tr>\n",
       "      <th>152</th>\n",
       "      <td>Production</td>\n",
       "      <td>1987</td>\n",
       "      <td>tonnes</td>\n",
       "      <td>10400.0</td>\n",
       "      <td>1</td>\n",
       "    </tr>\n",
       "    <tr>\n",
       "      <th>153</th>\n",
       "      <td>Production</td>\n",
       "      <td>1988</td>\n",
       "      <td>tonnes</td>\n",
       "      <td>10400.0</td>\n",
       "      <td>1</td>\n",
       "    </tr>\n",
       "    <tr>\n",
       "      <th>154</th>\n",
       "      <td>Production</td>\n",
       "      <td>1989</td>\n",
       "      <td>tonnes</td>\n",
       "      <td>11700.0</td>\n",
       "      <td>1</td>\n",
       "    </tr>\n",
       "    <tr>\n",
       "      <th>155</th>\n",
       "      <td>Production</td>\n",
       "      <td>1990</td>\n",
       "      <td>tonnes</td>\n",
       "      <td>10600.0</td>\n",
       "      <td>1</td>\n",
       "    </tr>\n",
       "    <tr>\n",
       "      <th>156</th>\n",
       "      <td>Production</td>\n",
       "      <td>1991</td>\n",
       "      <td>tonnes</td>\n",
       "      <td>10300.0</td>\n",
       "      <td>1</td>\n",
       "    </tr>\n",
       "  </tbody>\n",
       "</table>\n",
       "</div>"
      ],
      "text/plain": [
       "        Element  Year    Unit    Value  Flag_Official figure\n",
       "126  Production  1961  tonnes  29000.0                     1\n",
       "127  Production  1962  tonnes  31000.0                     1\n",
       "129  Production  1964  tonnes  24000.0                     1\n",
       "130  Production  1965  tonnes  21000.0                     1\n",
       "131  Production  1966  tonnes  17000.0                     1\n",
       "132  Production  1967  tonnes  16000.0                     1\n",
       "133  Production  1968  tonnes  20000.0                     1\n",
       "134  Production  1969  tonnes  22000.0                     1\n",
       "135  Production  1970  tonnes  20000.0                     1\n",
       "136  Production  1971  tonnes  13000.0                     1\n",
       "137  Production  1972  tonnes   9100.0                     1\n",
       "138  Production  1973  tonnes  11900.0                     1\n",
       "139  Production  1974  tonnes  10000.0                     1\n",
       "140  Production  1975  tonnes  10300.0                     1\n",
       "141  Production  1976  tonnes  10800.0                     1\n",
       "142  Production  1977  tonnes   9800.0                     1\n",
       "143  Production  1978  tonnes  10100.0                     1\n",
       "144  Production  1979  tonnes  10000.0                     1\n",
       "145  Production  1980  tonnes   8900.0                     1\n",
       "146  Production  1981  tonnes   6500.0                     1\n",
       "147  Production  1982  tonnes   9000.0                     1\n",
       "148  Production  1983  tonnes  10350.0                     1\n",
       "149  Production  1984  tonnes  13692.0                     1\n",
       "150  Production  1985  tonnes  10960.0                     1\n",
       "151  Production  1986  tonnes   9800.0                     1\n",
       "152  Production  1987  tonnes  10400.0                     1\n",
       "153  Production  1988  tonnes  10400.0                     1\n",
       "154  Production  1989  tonnes  11700.0                     1\n",
       "155  Production  1990  tonnes  10600.0                     1\n",
       "156  Production  1991  tonnes  10300.0                     1"
      ]
     },
     "execution_count": 29,
     "metadata": {},
     "output_type": "execute_result"
    }
   ],
   "source": [
    "df3 = pd.get_dummies(df3, columns = ['Flag Description'], prefix = 'Flag', drop_first=False)\n",
    "df3.head(30)"
   ]
  },
  {
   "cell_type": "markdown",
   "id": "01a73d53",
   "metadata": {},
   "source": [
    "# Переидексация"
   ]
  },
  {
   "cell_type": "code",
   "execution_count": 30,
   "id": "9230b6c3",
   "metadata": {},
   "outputs": [
    {
     "data": {
      "text/html": [
       "<div>\n",
       "<style scoped>\n",
       "    .dataframe tbody tr th:only-of-type {\n",
       "        vertical-align: middle;\n",
       "    }\n",
       "\n",
       "    .dataframe tbody tr th {\n",
       "        vertical-align: top;\n",
       "    }\n",
       "\n",
       "    .dataframe thead th {\n",
       "        text-align: right;\n",
       "    }\n",
       "</style>\n",
       "<table border=\"1\" class=\"dataframe\">\n",
       "  <thead>\n",
       "    <tr style=\"text-align: right;\">\n",
       "      <th></th>\n",
       "      <th>Year</th>\n",
       "      <th>Value</th>\n",
       "    </tr>\n",
       "  </thead>\n",
       "  <tbody>\n",
       "    <tr>\n",
       "      <th>0</th>\n",
       "      <td>1961</td>\n",
       "      <td>29000.0</td>\n",
       "    </tr>\n",
       "    <tr>\n",
       "      <th>1</th>\n",
       "      <td>1962</td>\n",
       "      <td>31000.0</td>\n",
       "    </tr>\n",
       "    <tr>\n",
       "      <th>2</th>\n",
       "      <td>1964</td>\n",
       "      <td>24000.0</td>\n",
       "    </tr>\n",
       "    <tr>\n",
       "      <th>3</th>\n",
       "      <td>1965</td>\n",
       "      <td>21000.0</td>\n",
       "    </tr>\n",
       "    <tr>\n",
       "      <th>4</th>\n",
       "      <td>1966</td>\n",
       "      <td>17000.0</td>\n",
       "    </tr>\n",
       "  </tbody>\n",
       "</table>\n",
       "</div>"
      ],
      "text/plain": [
       "   Year    Value\n",
       "0  1961  29000.0\n",
       "1  1962  31000.0\n",
       "2  1964  24000.0\n",
       "3  1965  21000.0\n",
       "4  1966  17000.0"
      ]
     },
     "execution_count": 30,
     "metadata": {},
     "output_type": "execute_result"
    }
   ],
   "source": [
    "df3 = df3.groupby('Year')['Value'].sum().reset_index()\n",
    "df3.head()"
   ]
  },
  {
   "cell_type": "markdown",
   "id": "1a1bd826",
   "metadata": {},
   "source": [
    "from sklearn.preprocessing import StandardScaler\n",
    "scaler = StandardScaler()\n",
    "\n",
    "scaled_features = df3.copy()\n",
    "col_names = ['Year','Value']\n",
    "features = scaled_features[col_names]\n",
    "scaler = StandardScaler().fit(features.values)\n",
    "features = scaler.transform(features.values)\n",
    "\n",
    "scaled_features[col_names] = features\n",
    "df3 = scaled_features\n",
    "df3.head()\n",
    "\n"
   ]
  },
  {
   "cell_type": "code",
   "execution_count": 31,
   "id": "566d4c88",
   "metadata": {},
   "outputs": [
    {
     "data": {
      "text/html": [
       "<div>\n",
       "<style scoped>\n",
       "    .dataframe tbody tr th:only-of-type {\n",
       "        vertical-align: middle;\n",
       "    }\n",
       "\n",
       "    .dataframe tbody tr th {\n",
       "        vertical-align: top;\n",
       "    }\n",
       "\n",
       "    .dataframe thead th {\n",
       "        text-align: right;\n",
       "    }\n",
       "</style>\n",
       "<table border=\"1\" class=\"dataframe\">\n",
       "  <thead>\n",
       "    <tr style=\"text-align: right;\">\n",
       "      <th></th>\n",
       "      <th>Value</th>\n",
       "    </tr>\n",
       "    <tr>\n",
       "      <th>Year</th>\n",
       "      <th></th>\n",
       "    </tr>\n",
       "  </thead>\n",
       "  <tbody>\n",
       "    <tr>\n",
       "      <th>1961</th>\n",
       "      <td>29000.0</td>\n",
       "    </tr>\n",
       "    <tr>\n",
       "      <th>1962</th>\n",
       "      <td>31000.0</td>\n",
       "    </tr>\n",
       "    <tr>\n",
       "      <th>1964</th>\n",
       "      <td>24000.0</td>\n",
       "    </tr>\n",
       "    <tr>\n",
       "      <th>1965</th>\n",
       "      <td>21000.0</td>\n",
       "    </tr>\n",
       "    <tr>\n",
       "      <th>1966</th>\n",
       "      <td>17000.0</td>\n",
       "    </tr>\n",
       "  </tbody>\n",
       "</table>\n",
       "</div>"
      ],
      "text/plain": [
       "        Value\n",
       "Year         \n",
       "1961  29000.0\n",
       "1962  31000.0\n",
       "1964  24000.0\n",
       "1965  21000.0\n",
       "1966  17000.0"
      ]
     },
     "execution_count": 31,
     "metadata": {},
     "output_type": "execute_result"
    }
   ],
   "source": [
    "# set index for Date column\n",
    "\n",
    "df3.set_index('Year', inplace=True)\n",
    "df3.index.name = 'Year'\n",
    "\n",
    "df3.head()"
   ]
  },
  {
   "cell_type": "code",
   "execution_count": 32,
   "id": "805a32ce",
   "metadata": {},
   "outputs": [
    {
     "name": "stdout",
     "output_type": "stream",
     "text": [
      "<class 'pandas.core.frame.DataFrame'>\n",
      "Int64Index: 59 entries, 1961 to 2020\n",
      "Data columns (total 1 columns):\n",
      " #   Column  Non-Null Count  Dtype  \n",
      "---  ------  --------------  -----  \n",
      " 0   Value   59 non-null     float64\n",
      "dtypes: float64(1)\n",
      "memory usage: 944.0 bytes\n"
     ]
    }
   ],
   "source": [
    "df3.info()"
   ]
  },
  {
   "cell_type": "code",
   "execution_count": 33,
   "id": "375665dd",
   "metadata": {},
   "outputs": [
    {
     "ename": "KeyError",
     "evalue": "\"['Year'] not found in axis\"",
     "output_type": "error",
     "traceback": [
      "\u001b[0;31m---------------------------------------------------------------------------\u001b[0m",
      "\u001b[0;31mKeyError\u001b[0m                                  Traceback (most recent call last)",
      "\u001b[0;32m/var/folders/st/wb65q6697yzdhhrtjqvm8bwr0000gn/T/ipykernel_74932/2636266624.py\u001b[0m in \u001b[0;36m<module>\u001b[0;34m\u001b[0m\n\u001b[1;32m      1\u001b[0m \u001b[0;31m# Spliting the dataset into independent and dependent variables\u001b[0m\u001b[0;34m\u001b[0m\u001b[0;34m\u001b[0m\u001b[0m\n\u001b[0;32m----> 2\u001b[0;31m \u001b[0mX\u001b[0m \u001b[0;34m=\u001b[0m \u001b[0mdf3\u001b[0m\u001b[0;34m.\u001b[0m\u001b[0mdrop\u001b[0m\u001b[0;34m(\u001b[0m\u001b[0;34m[\u001b[0m\u001b[0;34m'Year'\u001b[0m\u001b[0;34m]\u001b[0m\u001b[0;34m,\u001b[0m\u001b[0maxis\u001b[0m\u001b[0;34m=\u001b[0m\u001b[0;36m1\u001b[0m\u001b[0;34m)\u001b[0m\u001b[0;34m\u001b[0m\u001b[0;34m\u001b[0m\u001b[0m\n\u001b[0m\u001b[1;32m      3\u001b[0m \u001b[0my\u001b[0m \u001b[0;34m=\u001b[0m \u001b[0mdf3\u001b[0m\u001b[0;34m[\u001b[0m\u001b[0;34m'Year'\u001b[0m\u001b[0;34m]\u001b[0m\u001b[0;34m\u001b[0m\u001b[0;34m\u001b[0m\u001b[0m\n",
      "\u001b[0;32m~/opt/anaconda3/lib/python3.9/site-packages/pandas/util/_decorators.py\u001b[0m in \u001b[0;36mwrapper\u001b[0;34m(*args, **kwargs)\u001b[0m\n\u001b[1;32m    309\u001b[0m                     \u001b[0mstacklevel\u001b[0m\u001b[0;34m=\u001b[0m\u001b[0mstacklevel\u001b[0m\u001b[0;34m,\u001b[0m\u001b[0;34m\u001b[0m\u001b[0;34m\u001b[0m\u001b[0m\n\u001b[1;32m    310\u001b[0m                 )\n\u001b[0;32m--> 311\u001b[0;31m             \u001b[0;32mreturn\u001b[0m \u001b[0mfunc\u001b[0m\u001b[0;34m(\u001b[0m\u001b[0;34m*\u001b[0m\u001b[0margs\u001b[0m\u001b[0;34m,\u001b[0m \u001b[0;34m**\u001b[0m\u001b[0mkwargs\u001b[0m\u001b[0;34m)\u001b[0m\u001b[0;34m\u001b[0m\u001b[0;34m\u001b[0m\u001b[0m\n\u001b[0m\u001b[1;32m    312\u001b[0m \u001b[0;34m\u001b[0m\u001b[0m\n\u001b[1;32m    313\u001b[0m         \u001b[0;32mreturn\u001b[0m \u001b[0mwrapper\u001b[0m\u001b[0;34m\u001b[0m\u001b[0;34m\u001b[0m\u001b[0m\n",
      "\u001b[0;32m~/opt/anaconda3/lib/python3.9/site-packages/pandas/core/frame.py\u001b[0m in \u001b[0;36mdrop\u001b[0;34m(self, labels, axis, index, columns, level, inplace, errors)\u001b[0m\n\u001b[1;32m   4955\u001b[0m                 \u001b[0mweight\u001b[0m  \u001b[0;36m1.0\u001b[0m     \u001b[0;36m0.8\u001b[0m\u001b[0;34m\u001b[0m\u001b[0;34m\u001b[0m\u001b[0m\n\u001b[1;32m   4956\u001b[0m         \"\"\"\n\u001b[0;32m-> 4957\u001b[0;31m         return super().drop(\n\u001b[0m\u001b[1;32m   4958\u001b[0m             \u001b[0mlabels\u001b[0m\u001b[0;34m=\u001b[0m\u001b[0mlabels\u001b[0m\u001b[0;34m,\u001b[0m\u001b[0;34m\u001b[0m\u001b[0;34m\u001b[0m\u001b[0m\n\u001b[1;32m   4959\u001b[0m             \u001b[0maxis\u001b[0m\u001b[0;34m=\u001b[0m\u001b[0maxis\u001b[0m\u001b[0;34m,\u001b[0m\u001b[0;34m\u001b[0m\u001b[0;34m\u001b[0m\u001b[0m\n",
      "\u001b[0;32m~/opt/anaconda3/lib/python3.9/site-packages/pandas/core/generic.py\u001b[0m in \u001b[0;36mdrop\u001b[0;34m(self, labels, axis, index, columns, level, inplace, errors)\u001b[0m\n\u001b[1;32m   4265\u001b[0m         \u001b[0;32mfor\u001b[0m \u001b[0maxis\u001b[0m\u001b[0;34m,\u001b[0m \u001b[0mlabels\u001b[0m \u001b[0;32min\u001b[0m \u001b[0maxes\u001b[0m\u001b[0;34m.\u001b[0m\u001b[0mitems\u001b[0m\u001b[0;34m(\u001b[0m\u001b[0;34m)\u001b[0m\u001b[0;34m:\u001b[0m\u001b[0;34m\u001b[0m\u001b[0;34m\u001b[0m\u001b[0m\n\u001b[1;32m   4266\u001b[0m             \u001b[0;32mif\u001b[0m \u001b[0mlabels\u001b[0m \u001b[0;32mis\u001b[0m \u001b[0;32mnot\u001b[0m \u001b[0;32mNone\u001b[0m\u001b[0;34m:\u001b[0m\u001b[0;34m\u001b[0m\u001b[0;34m\u001b[0m\u001b[0m\n\u001b[0;32m-> 4267\u001b[0;31m                 \u001b[0mobj\u001b[0m \u001b[0;34m=\u001b[0m \u001b[0mobj\u001b[0m\u001b[0;34m.\u001b[0m\u001b[0m_drop_axis\u001b[0m\u001b[0;34m(\u001b[0m\u001b[0mlabels\u001b[0m\u001b[0;34m,\u001b[0m \u001b[0maxis\u001b[0m\u001b[0;34m,\u001b[0m \u001b[0mlevel\u001b[0m\u001b[0;34m=\u001b[0m\u001b[0mlevel\u001b[0m\u001b[0;34m,\u001b[0m \u001b[0merrors\u001b[0m\u001b[0;34m=\u001b[0m\u001b[0merrors\u001b[0m\u001b[0;34m)\u001b[0m\u001b[0;34m\u001b[0m\u001b[0;34m\u001b[0m\u001b[0m\n\u001b[0m\u001b[1;32m   4268\u001b[0m \u001b[0;34m\u001b[0m\u001b[0m\n\u001b[1;32m   4269\u001b[0m         \u001b[0;32mif\u001b[0m \u001b[0minplace\u001b[0m\u001b[0;34m:\u001b[0m\u001b[0;34m\u001b[0m\u001b[0;34m\u001b[0m\u001b[0m\n",
      "\u001b[0;32m~/opt/anaconda3/lib/python3.9/site-packages/pandas/core/generic.py\u001b[0m in \u001b[0;36m_drop_axis\u001b[0;34m(self, labels, axis, level, errors, consolidate, only_slice)\u001b[0m\n\u001b[1;32m   4309\u001b[0m                 \u001b[0mnew_axis\u001b[0m \u001b[0;34m=\u001b[0m \u001b[0maxis\u001b[0m\u001b[0;34m.\u001b[0m\u001b[0mdrop\u001b[0m\u001b[0;34m(\u001b[0m\u001b[0mlabels\u001b[0m\u001b[0;34m,\u001b[0m \u001b[0mlevel\u001b[0m\u001b[0;34m=\u001b[0m\u001b[0mlevel\u001b[0m\u001b[0;34m,\u001b[0m \u001b[0merrors\u001b[0m\u001b[0;34m=\u001b[0m\u001b[0merrors\u001b[0m\u001b[0;34m)\u001b[0m\u001b[0;34m\u001b[0m\u001b[0;34m\u001b[0m\u001b[0m\n\u001b[1;32m   4310\u001b[0m             \u001b[0;32melse\u001b[0m\u001b[0;34m:\u001b[0m\u001b[0;34m\u001b[0m\u001b[0;34m\u001b[0m\u001b[0m\n\u001b[0;32m-> 4311\u001b[0;31m                 \u001b[0mnew_axis\u001b[0m \u001b[0;34m=\u001b[0m \u001b[0maxis\u001b[0m\u001b[0;34m.\u001b[0m\u001b[0mdrop\u001b[0m\u001b[0;34m(\u001b[0m\u001b[0mlabels\u001b[0m\u001b[0;34m,\u001b[0m \u001b[0merrors\u001b[0m\u001b[0;34m=\u001b[0m\u001b[0merrors\u001b[0m\u001b[0;34m)\u001b[0m\u001b[0;34m\u001b[0m\u001b[0;34m\u001b[0m\u001b[0m\n\u001b[0m\u001b[1;32m   4312\u001b[0m             \u001b[0mindexer\u001b[0m \u001b[0;34m=\u001b[0m \u001b[0maxis\u001b[0m\u001b[0;34m.\u001b[0m\u001b[0mget_indexer\u001b[0m\u001b[0;34m(\u001b[0m\u001b[0mnew_axis\u001b[0m\u001b[0;34m)\u001b[0m\u001b[0;34m\u001b[0m\u001b[0;34m\u001b[0m\u001b[0m\n\u001b[1;32m   4313\u001b[0m \u001b[0;34m\u001b[0m\u001b[0m\n",
      "\u001b[0;32m~/opt/anaconda3/lib/python3.9/site-packages/pandas/core/indexes/base.py\u001b[0m in \u001b[0;36mdrop\u001b[0;34m(self, labels, errors)\u001b[0m\n\u001b[1;32m   6659\u001b[0m         \u001b[0;32mif\u001b[0m \u001b[0mmask\u001b[0m\u001b[0;34m.\u001b[0m\u001b[0many\u001b[0m\u001b[0;34m(\u001b[0m\u001b[0;34m)\u001b[0m\u001b[0;34m:\u001b[0m\u001b[0;34m\u001b[0m\u001b[0;34m\u001b[0m\u001b[0m\n\u001b[1;32m   6660\u001b[0m             \u001b[0;32mif\u001b[0m \u001b[0merrors\u001b[0m \u001b[0;34m!=\u001b[0m \u001b[0;34m\"ignore\"\u001b[0m\u001b[0;34m:\u001b[0m\u001b[0;34m\u001b[0m\u001b[0;34m\u001b[0m\u001b[0m\n\u001b[0;32m-> 6661\u001b[0;31m                 \u001b[0;32mraise\u001b[0m \u001b[0mKeyError\u001b[0m\u001b[0;34m(\u001b[0m\u001b[0;34mf\"{list(labels[mask])} not found in axis\"\u001b[0m\u001b[0;34m)\u001b[0m\u001b[0;34m\u001b[0m\u001b[0;34m\u001b[0m\u001b[0m\n\u001b[0m\u001b[1;32m   6662\u001b[0m             \u001b[0mindexer\u001b[0m \u001b[0;34m=\u001b[0m \u001b[0mindexer\u001b[0m\u001b[0;34m[\u001b[0m\u001b[0;34m~\u001b[0m\u001b[0mmask\u001b[0m\u001b[0;34m]\u001b[0m\u001b[0;34m\u001b[0m\u001b[0;34m\u001b[0m\u001b[0m\n\u001b[1;32m   6663\u001b[0m         \u001b[0;32mreturn\u001b[0m \u001b[0mself\u001b[0m\u001b[0;34m.\u001b[0m\u001b[0mdelete\u001b[0m\u001b[0;34m(\u001b[0m\u001b[0mindexer\u001b[0m\u001b[0;34m)\u001b[0m\u001b[0;34m\u001b[0m\u001b[0;34m\u001b[0m\u001b[0m\n",
      "\u001b[0;31mKeyError\u001b[0m: \"['Year'] not found in axis\""
     ]
    }
   ],
   "source": [
    "# Spliting the dataset into independent and dependent variables\n",
    "X = df3.drop(['Year'],axis=1)\n",
    "y = df3['Year']"
   ]
  },
  {
   "cell_type": "code",
   "execution_count": null,
   "id": "9abc94b1",
   "metadata": {},
   "outputs": [],
   "source": [
    "from sklearn.model_selection import train_test_split\n",
    "\n",
    "# Splitting the dataset into the Training set and Test set\n",
    "X_train, X_test, y_train, y_test = train_test_split(X, y, test_size = 0.3, random_state = 22)\n",
    "\n",
    "# Display the rows and coulmns of X, y, X_train, y_train, X_test, y_test\n",
    "X.shape, y.shape, X_train.shape, y_train.shape, X_test.shape, y_test.shape"
   ]
  },
  {
   "cell_type": "markdown",
   "id": "86e32c54",
   "metadata": {},
   "source": [
    "# Naive Bayes"
   ]
  },
  {
   "cell_type": "code",
   "execution_count": null,
   "id": "bfa66be5",
   "metadata": {},
   "outputs": [],
   "source": [
    "# Fitting Naive Bayes Classification to the Training set with linear kernel\n",
    "from sklearn.naive_bayes import GaussianNB\n",
    "\n",
    "# Create and initialise an object sc by calling a method GaussianNB()\n",
    "nvclassifier = GaussianNB()\n",
    "\n",
    "# Train the model by calling a method fit()\n",
    "nvclassifier.fit(X_train, y_train)"
   ]
  },
  {
   "cell_type": "code",
   "execution_count": null,
   "id": "737ac24c",
   "metadata": {},
   "outputs": [],
   "source": [
    "# Predicting the Test set results\n",
    "y_pred = nvclassifier.predict(X_test)\n",
    "\n",
    "# Display the predicted values\n",
    "print(y_pred)"
   ]
  },
  {
   "cell_type": "code",
   "execution_count": null,
   "id": "42b0765a",
   "metadata": {},
   "outputs": [],
   "source": [
    "# Check the actual and predicted value side by side\n",
    "y_compare = np.vstack((y_test, y_pred)).T\n",
    "# actual value on the left side and predicted value on the right hand side\n",
    "# printing the top 10 values\n",
    "y_compare[:10, :]"
   ]
  },
  {
   "cell_type": "code",
   "execution_count": null,
   "id": "16283529",
   "metadata": {},
   "outputs": [],
   "source": [
    "# Construct the Confusion Matrix\n",
    "from sklearn.metrics import confusion_matrix\n",
    "cm = confusion_matrix(y_test, y_pred)\n",
    "print(cm)"
   ]
  },
  {
   "cell_type": "code",
   "execution_count": null,
   "id": "a50b2f65",
   "metadata": {},
   "outputs": [],
   "source": [
    "# Import scikit-learn metrics module for accuracy calculation\n",
    "from sklearn import metrics\n",
    "\n",
    "# Model Accuracy, how often is the classifier correct?\n",
    "print(\"Accuracy:\",metrics.accuracy_score(y_test, y_pred))\n",
    "\n",
    "# Rounded upto 2 decimal places\n",
    "print( \"Accuracy: {:.2f}\".format(metrics.accuracy_score(y_test, y_pred)) )"
   ]
  },
  {
   "cell_type": "code",
   "execution_count": null,
   "id": "66c0732b",
   "metadata": {},
   "outputs": [],
   "source": [
    "df3.head()"
   ]
  },
  {
   "cell_type": "markdown",
   "id": "bd5bf0f0",
   "metadata": {},
   "source": [
    "# Spliting the dataset into independent and dependent variables\n",
    "X = df3.drop(['Year','Element','Unit'],axis=1)\n",
    "y = df3['Year']"
   ]
  },
  {
   "cell_type": "markdown",
   "id": "c74ba6df",
   "metadata": {},
   "source": [
    "from sklearn.model_selection import train_test_split\n",
    "train_data,test_data,train_label,test_label = train_test_split(X, y, test_size=0.2, random_state=42)\n"
   ]
  },
  {
   "cell_type": "markdown",
   "id": "5b29c076",
   "metadata": {},
   "source": [
    "from sklearn.neighbors import KNeighborsClassifier"
   ]
  },
  {
   "cell_type": "markdown",
   "id": "e468a9be",
   "metadata": {},
   "source": [
    "neighbors = np.arange(1, 9)                  # number of neighbors\n",
    "train_accuracy = np.zeros(len(neighbors))    # Declare and initialise the matrix\n",
    "test_accuracy = np.zeros(len(neighbors))     # Declare and initialise the matrix"
   ]
  },
  {
   "cell_type": "markdown",
   "id": "fbffd1be",
   "metadata": {},
   "source": [
    "for i,k in enumerate(neighbors):                          # for loop that checks the model for neighbor values 1, 2, 3, ..., 9\n",
    "    knn = KNeighborsClassifier(n_neighbors = k)           # Initialise an object knn using KNeighborsClassifier method\n",
    "\n",
    "    #Fit the model\n",
    "    knn.fit(train_data, train_label)                      # Call fit method to implement the ML KNeighborsClassifier model\n",
    "\n",
    "    #Compute accuracy on the training set\n",
    "    train_accuracy[i] = knn.score(train_data, train_label)   # Save the score value in the train_accuracy array\n",
    "\n",
    "    #Compute accuracy on the test set\n",
    "    test_accuracy[i] = knn.score(test_data, test_label) "
   ]
  }
 ],
 "metadata": {
  "kernelspec": {
   "display_name": "Python 3 (ipykernel)",
   "language": "python",
   "name": "python3"
  },
  "language_info": {
   "codemirror_mode": {
    "name": "ipython",
    "version": 3
   },
   "file_extension": ".py",
   "mimetype": "text/x-python",
   "name": "python",
   "nbconvert_exporter": "python",
   "pygments_lexer": "ipython3",
   "version": "3.9.15"
  }
 },
 "nbformat": 4,
 "nbformat_minor": 5
}
