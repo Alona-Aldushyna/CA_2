{
 "cells": [
  {
   "cell_type": "code",
   "execution_count": 1,
   "id": "990af35c",
   "metadata": {},
   "outputs": [],
   "source": [
    "# Importing the libraries \n",
    "\n",
    "import numpy as np\n",
    "import matplotlib.pyplot as plt\n",
    "import matplotlib.image as mpimg\n",
    "import pandas as pd\n",
    "# Importing libraries\n",
    "import pandas as pd\n",
    "import numpy as np\n",
    "import seaborn as sns\n",
    "import matplotlib\n",
    "import matplotlib.pyplot as plt #visualisation\n",
    "%matplotlib inline\n",
    "sns.set(color_codes=True) \n",
    "# Load the libraries\n",
    "import numpy as np \n",
    "import pandas as pd \n",
    "import seaborn as sns\n",
    "import missingno as msno\n",
    "import re\n",
    "from matplotlib import pyplot as plt\n",
    "import matplotlib.pyplot as plt\n",
    "from warnings import filterwarnings\n",
    "filterwarnings('ignore')\n",
    "\n",
    "\n",
    "from scipy.stats.mstats import winsorize\n",
    "import scipy.stats as stats\n",
    "from sklearn.preprocessing import normalize\n",
    "from sklearn.model_selection import train_test_split\n",
    "from sklearn.preprocessing import StandardScaler\n",
    "from sklearn.metrics import r2_score, mean_squared_error, mean_absolute_error,explained_variance_score\n",
    "from sklearn.linear_model import LinearRegression,Ridge,Lasso\n",
    "from sklearn.ensemble import RandomForestRegressor\n",
    "from sklearn.model_selection import (GridSearchCV, cross_val_score, cross_val_predict, StratifiedKFold, learning_curve)\n",
    "\n",
    "from statsmodels.tools.eval_measures import mse, rmse\n",
    "from sklearn import preprocessing"
   ]
  },
  {
   "cell_type": "code",
   "execution_count": 2,
   "id": "92f52fd8",
   "metadata": {},
   "outputs": [
    {
     "data": {
      "text/html": [
       "<div>\n",
       "<style scoped>\n",
       "    .dataframe tbody tr th:only-of-type {\n",
       "        vertical-align: middle;\n",
       "    }\n",
       "\n",
       "    .dataframe tbody tr th {\n",
       "        vertical-align: top;\n",
       "    }\n",
       "\n",
       "    .dataframe thead th {\n",
       "        text-align: right;\n",
       "    }\n",
       "</style>\n",
       "<table border=\"1\" class=\"dataframe\">\n",
       "  <thead>\n",
       "    <tr style=\"text-align: right;\">\n",
       "      <th></th>\n",
       "      <th>Survey Date</th>\n",
       "      <th>Ireland</th>\n",
       "      <th>Germany</th>\n",
       "      <th>Italy</th>\n",
       "    </tr>\n",
       "  </thead>\n",
       "  <tbody>\n",
       "    <tr>\n",
       "      <th>0</th>\n",
       "      <td>January</td>\n",
       "      <td>46.03</td>\n",
       "      <td>41.66</td>\n",
       "      <td>41.5</td>\n",
       "    </tr>\n",
       "    <tr>\n",
       "      <th>1</th>\n",
       "      <td>February</td>\n",
       "      <td>47.59</td>\n",
       "      <td>43.12</td>\n",
       "      <td>42.5</td>\n",
       "    </tr>\n",
       "    <tr>\n",
       "      <th>2</th>\n",
       "      <td>March</td>\n",
       "      <td>48.95</td>\n",
       "      <td>44.86</td>\n",
       "      <td>43.5</td>\n",
       "    </tr>\n",
       "    <tr>\n",
       "      <th>3</th>\n",
       "      <td>April</td>\n",
       "      <td>51.28</td>\n",
       "      <td>47.20</td>\n",
       "      <td>48.0</td>\n",
       "    </tr>\n",
       "    <tr>\n",
       "      <th>4</th>\n",
       "      <td>May</td>\n",
       "      <td>53.61</td>\n",
       "      <td>49.59</td>\n",
       "      <td>48.0</td>\n",
       "    </tr>\n",
       "    <tr>\n",
       "      <th>5</th>\n",
       "      <td>June</td>\n",
       "      <td>55.45</td>\n",
       "      <td>52.08</td>\n",
       "      <td>48.5</td>\n",
       "    </tr>\n",
       "    <tr>\n",
       "      <th>6</th>\n",
       "      <td>July</td>\n",
       "      <td>57.78</td>\n",
       "      <td>55.04</td>\n",
       "      <td>55.0</td>\n",
       "    </tr>\n",
       "    <tr>\n",
       "      <th>7</th>\n",
       "      <td>August</td>\n",
       "      <td>59.73</td>\n",
       "      <td>56.77</td>\n",
       "      <td>55.0</td>\n",
       "    </tr>\n",
       "    <tr>\n",
       "      <th>8</th>\n",
       "      <td>September</td>\n",
       "      <td>64.29</td>\n",
       "      <td>58.18</td>\n",
       "      <td>57.0</td>\n",
       "    </tr>\n",
       "    <tr>\n",
       "      <th>9</th>\n",
       "      <td>October</td>\n",
       "      <td>68.47</td>\n",
       "      <td>59.33</td>\n",
       "      <td>57.0</td>\n",
       "    </tr>\n",
       "    <tr>\n",
       "      <th>10</th>\n",
       "      <td>November</td>\n",
       "      <td>69.25</td>\n",
       "      <td>60.00</td>\n",
       "      <td>58.0</td>\n",
       "    </tr>\n",
       "    <tr>\n",
       "      <th>11</th>\n",
       "      <td>December</td>\n",
       "      <td>69.25</td>\n",
       "      <td>61.20</td>\n",
       "      <td>60.0</td>\n",
       "    </tr>\n",
       "  </tbody>\n",
       "</table>\n",
       "</div>"
      ],
      "text/plain": [
       "   Survey Date  Ireland  Germany  Italy\n",
       "0      January    46.03    41.66   41.5\n",
       "1     February    47.59    43.12   42.5\n",
       "2        March    48.95    44.86   43.5\n",
       "3        April    51.28    47.20   48.0\n",
       "4          May    53.61    49.59   48.0\n",
       "5         June    55.45    52.08   48.5\n",
       "6         July    57.78    55.04   55.0\n",
       "7       August    59.73    56.77   55.0\n",
       "8    September    64.29    58.18   57.0\n",
       "9      October    68.47    59.33   57.0\n",
       "10    November    69.25    60.00   58.0\n",
       "11    December    69.25    61.20   60.0"
      ]
     },
     "execution_count": 2,
     "metadata": {},
     "output_type": "execute_result"
    }
   ],
   "source": [
    "df_compare = pd.read_excel('milk_compare.xlsx')\n",
    "df_compare.head(12)"
   ]
  },
  {
   "cell_type": "code",
   "execution_count": 3,
   "id": "d611e5f8",
   "metadata": {},
   "outputs": [
    {
     "data": {
      "text/plain": [
       "Survey Date    0\n",
       "Ireland        0\n",
       "Germany        0\n",
       "Italy          0\n",
       "dtype: int64"
      ]
     },
     "execution_count": 3,
     "metadata": {},
     "output_type": "execute_result"
    }
   ],
   "source": [
    "df_compare = df_compare.dropna()\n",
    "df_compare.isnull().sum()"
   ]
  },
  {
   "cell_type": "code",
   "execution_count": 4,
   "id": "1607fd5a",
   "metadata": {},
   "outputs": [
    {
     "name": "stdout",
     "output_type": "stream",
     "text": [
      "<class 'pandas.core.frame.DataFrame'>\n",
      "Int64Index: 12 entries, 0 to 11\n",
      "Data columns (total 4 columns):\n",
      " #   Column       Non-Null Count  Dtype  \n",
      "---  ------       --------------  -----  \n",
      " 0   Survey Date  12 non-null     object \n",
      " 1   Ireland      12 non-null     float64\n",
      " 2   Germany      12 non-null     float64\n",
      " 3   Italy        12 non-null     float64\n",
      "dtypes: float64(3), object(1)\n",
      "memory usage: 480.0+ bytes\n"
     ]
    }
   ],
   "source": [
    "df_compare.info()"
   ]
  },
  {
   "cell_type": "markdown",
   "id": "f66fb23e",
   "metadata": {},
   "source": [
    "## One-way Analysis of Variance (ANOVA)"
   ]
  },
  {
   "cell_type": "markdown",
   "id": "4bd9e32e",
   "metadata": {},
   "source": [
    "Мы хотим увидеть, превосходит ли цена одной страны -  другой, поэтому наша нулевая гипотеза состоит в том, что средний цена в каждой группе эквивалентен средней цене в других группах. Для простоты мы рассмотрим 3 группы (страны «Ireland», «Germany», «Italy») по 12 месяцев в каждой."
   ]
  },
  {
   "cell_type": "code",
   "execution_count": 5,
   "id": "8269b286",
   "metadata": {},
   "outputs": [],
   "source": [
    "a = df_compare['Ireland'].values\n",
    "b = df_compare['Germany'].values\n",
    "c = df_compare['Italy'].values"
   ]
  },
  {
   "cell_type": "code",
   "execution_count": 6,
   "id": "ebf786eb",
   "metadata": {},
   "outputs": [
    {
     "data": {
      "text/plain": [
       "F_onewayResult(statistic=2.563523709340257, pvalue=0.0922853211480521)"
      ]
     },
     "execution_count": 6,
     "metadata": {},
     "output_type": "execute_result"
    }
   ],
   "source": [
    "import scipy.stats as stats \n",
    "stats.f_oneway(a,b,c) "
   ]
  },
  {
   "cell_type": "markdown",
   "id": "6779846a",
   "metadata": {},
   "source": [
    "## Student's t-test for independent groups"
   ]
  },
  {
   "cell_type": "markdown",
   "id": "b6f5fe2d",
   "metadata": {},
   "source": [
    "The Student’s t-Test is a statistical hypothesis test to compare whether two samples are expected to have been drawn from the same population. It is named for the pseudonym “Student” used by William Gosset, who developed the test.\n",
    "\n",
    "The test works by checking the means from two samples to see if they are significantly different from each other. It does this by calculating the standard error in the difference between means, which can be interpreted to see how likely the difference is, if the two samples have the same mean (the null hypothesis).\n",
    "\n",
    "The t-statistic calculated by the test can be interpreted by comparing it to critical values from the t-distribution. The critical value can be calculated using the degrees of freedom and a significance level with the percent point function (PPF).\n",
    "\n",
    "We can interpret the statistic value in a two-tailed test, meaning that if we reject the null hypothesis, it could be because the first mean is smaller or greater than the second mean.\n",
    "\n",
    "We can implement a function as shown below:\n",
    "\n"
   ]
  },
  {
   "cell_type": "code",
   "execution_count": 7,
   "id": "5f53ab64",
   "metadata": {},
   "outputs": [],
   "source": [
    "import scipy.stats as st"
   ]
  },
  {
   "cell_type": "code",
   "execution_count": 8,
   "id": "fcac22ee",
   "metadata": {},
   "outputs": [],
   "source": [
    "def independent_ttest(a, b, alpha=0.05):\n",
    "    # calculate means\n",
    "    mean1, mean2 = np.mean(a), np.mean(b)\n",
    "    # calculate standard errors\n",
    "    se1, se2 = st.sem(a), st.sem(b)\n",
    "    # standard error on the difference between the samples\n",
    "    sed = np.sqrt(se1**2.0 + se2**2.0)\n",
    "    # calculate the t statistic\n",
    "    t_stat = (mean1 - mean2) / sed\n",
    "    # degrees of freedom\n",
    "    df = len(a) + len(b) - 2\n",
    "    # calculate the critical value\n",
    "    cv = st.t.ppf(1.0 - alpha, df)\n",
    "    # calculate the p-value\n",
    "    p = (1.0 - st.t.cdf(abs(t_stat), df)) * 2.0\n",
    "    # return everything\n",
    "    return t_stat, df, cv, p\n",
    "    "
   ]
  },
  {
   "cell_type": "code",
   "execution_count": 9,
   "id": "3d8d741d",
   "metadata": {},
   "outputs": [
    {
     "name": "stdout",
     "output_type": "stream",
     "text": [
      "t=1.636, df=22, cv=1.717, p=0.116\n",
      "\n",
      "Fail to reject null hypothesis that the means are equal.\n",
      "Fail to reject null hypothesis that the means are equal.\n"
     ]
    }
   ],
   "source": [
    "# calculate the t test\n",
    "alpha = 0.05\n",
    "t_stat, df, cv, p = independent_ttest(a, b, alpha)\n",
    "print('t=%.3f, df=%d, cv=%.3f, p=%.3f' % (t_stat, df, cv, p))\n",
    "print()\n",
    "# interpret via critical value\n",
    "if abs(t_stat) <= cv:\n",
    "    print('Fail to reject null hypothesis that the means are equal.')\n",
    "else:\n",
    "    print('Reject the null hypothesis that the means are equal.')\n",
    "# interpret via p-value\n",
    "if p > alpha:\n",
    "    print('Fail to reject null hypothesis that the means are equal.')\n",
    "else:\n",
    "    print('Reject the null hypothesis that the means are equal.')"
   ]
  },
  {
   "cell_type": "markdown",
   "id": "e456227e",
   "metadata": {},
   "source": [
    "# Non-Parametric Hypothesis t-Test\n",
    "Wilcoxon Signed-Rank, Mann-Whitney U, Kruskal-Wallis H, Friedman Test"
   ]
  },
  {
   "cell_type": "markdown",
   "id": "f10fc69c",
   "metadata": {},
   "source": [
    "### Mann-Whitney U Test\n",
    "Tests whether the distributions of two independent samples are equal or not. The same as the One-sample t-test.\n",
    "Assumptions:\n",
    "\n",
    "*Observations in each sample are independent & identically distributed(iid)\n",
    "\n",
    "*Observations in each sample can be ranked."
   ]
  },
  {
   "cell_type": "code",
   "execution_count": 10,
   "id": "e61739c9",
   "metadata": {},
   "outputs": [
    {
     "name": "stdout",
     "output_type": "stream",
     "text": [
      "stat=95.000, p=0.194\n",
      "Probably the same distribution\n"
     ]
    }
   ],
   "source": [
    "from scipy.stats import mannwhitneyu\n",
    "\n",
    "stat, p = mannwhitneyu(a, b)\n",
    "print('stat=%.3f, p=%.3f' % (stat, p))\n",
    "if p > 0.05:\n",
    " print('Probably the same distribution')\n",
    "else:\n",
    " print('Probably different distributions')"
   ]
  },
  {
   "cell_type": "markdown",
   "id": "cfcfa32b",
   "metadata": {},
   "source": [
    "### Wilcoxon Signed-Rank Test\n",
    "tests whether the distributions of two paired samples are equal or not. Sample like Paired t-Test\n",
    "\n",
    "Assumptions:\n",
    "\n",
    "Observations in each sample are independent & identically distributed (iid).\n",
    "Observations in each sample can be ranked.\n",
    "Observations across each sample are paired."
   ]
  },
  {
   "cell_type": "code",
   "execution_count": 11,
   "id": "63407265",
   "metadata": {},
   "outputs": [
    {
     "name": "stdout",
     "output_type": "stream",
     "text": [
      "stat=0.000, p=0.000\n",
      "Probably different distributions\n"
     ]
    }
   ],
   "source": [
    "from scipy.stats import wilcoxon\n",
    "\n",
    "stat, p = wilcoxon(a, c)\n",
    "print('stat=%.3f, p=%.3f' % (stat, p))\n",
    "if p > 0.05:\n",
    " print('Probably the same distribution')\n",
    "else:\n",
    " print('Probably different distributions')"
   ]
  },
  {
   "cell_type": "markdown",
   "id": "2842e3f8",
   "metadata": {},
   "source": [
    "### Kruskal-Wallis H Test or One-way Anova\n",
    "tests whether the distributions of two or more independent samples are equal or not.\n",
    "\n",
    "What is the difference between Mann-Whitney and Kruskal-Wallis?\n",
    "\n",
    "The major difference between the Mann-Whitney U and the Kruskal-Wallis H is simply that the latter can accommodate more than two groups.\n",
    "\n",
    "The ANOVA (and t-test) is explicitly a test of equality of means of values. The Kruskal-Wallis (and Mann-Whitney) can be seen technically as a comparison of the mean ranks.\n",
    "\n",
    "Assumptions:\n",
    "\n",
    "Observations in each sample are independent and identically distributed (iid).\n",
    "Observations in each sample can be ranked.\n",
    "\n"
   ]
  },
  {
   "cell_type": "code",
   "execution_count": 12,
   "id": "29b5c55b",
   "metadata": {},
   "outputs": [
    {
     "name": "stdout",
     "output_type": "stream",
     "text": [
      "stat=1.764, p=0.184\n",
      "Probably the same distribution\n"
     ]
    }
   ],
   "source": [
    "from scipy.stats import kruskal\n",
    "\n",
    "stat, p = kruskal(a, b)\n",
    "print('stat=%.3f, p=%.3f' % (stat, p))\n",
    "if p > 0.05:\n",
    " print('Probably the same distribution')\n",
    "else:\n",
    " print('Probably different distributions')"
   ]
  },
  {
   "cell_type": "markdown",
   "id": "ee1887e0",
   "metadata": {},
   "source": [
    "### Friedman Test\n",
    "tests whether the distributions of two or more paired samples are equal or not alternative to the Repeated Measures ANOVA.\n",
    "\n",
    "It is used to determine whether or not there is a statistically significant difference between the means of three or more groups in which the same subjects show up in each group.\n",
    "\n",
    "Assumptions:\n",
    "Observations in each sample are independent and identically distributed (iid).\n",
    "Observations in each sample can be ranked.\n",
    "Observations across each sample are paired."
   ]
  },
  {
   "cell_type": "code",
   "execution_count": 13,
   "id": "fc88794a",
   "metadata": {},
   "outputs": [
    {
     "name": "stdout",
     "output_type": "stream",
     "text": [
      "stat=22.167, p=0.000\n",
      "Probably different distributions\n"
     ]
    }
   ],
   "source": [
    "from scipy.stats import friedmanchisquare\n",
    "\n",
    "stat, p = friedmanchisquare(a, b, c)\n",
    "print('stat=%.3f, p=%.3f' % (stat, p))\n",
    "if p > 0.05:\n",
    " print('Probably the same distribution')\n",
    "else:\n",
    " print('Probably different distributions')\n"
   ]
  },
  {
   "cell_type": "code",
   "execution_count": null,
   "id": "d739eb96",
   "metadata": {},
   "outputs": [],
   "source": []
  }
 ],
 "metadata": {
  "kernelspec": {
   "display_name": "Python 3 (ipykernel)",
   "language": "python",
   "name": "python3"
  },
  "language_info": {
   "codemirror_mode": {
    "name": "ipython",
    "version": 3
   },
   "file_extension": ".py",
   "mimetype": "text/x-python",
   "name": "python",
   "nbconvert_exporter": "python",
   "pygments_lexer": "ipython3",
   "version": "3.9.15"
  }
 },
 "nbformat": 4,
 "nbformat_minor": 5
}
